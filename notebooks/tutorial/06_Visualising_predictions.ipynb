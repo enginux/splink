{
  "cells": [
    {
      "cell_type": "markdown",
      "id": "f110e018",
      "metadata": {},
      "source": [
        "# Visualising predictions\n",
        "\n",
        "Splink contains a variety of tools to help you visualise your predictions.\n",
        "\n",
        "The idea is that, by developing an understanding of how your model works, you can gain confidence that the predictions it makes are sensible, or alternatively find examples of where your model isn't working, which may help you improve the model specification and fix these problems.\n"
      ]
    },
    {
      "cell_type": "code",
      "execution_count": null,
      "id": "1e3eed24",
      "metadata": {
        "execution": {
          "iopub.execute_input": "2024-06-22T08:35:35.067665Z",
          "iopub.status.busy": "2024-06-22T08:35:35.067291Z",
          "iopub.status.idle": "2024-06-22T08:35:35.087061Z",
          "shell.execute_reply": "2024-06-22T08:35:35.085914Z"
        }
      },
      "outputs": [],
      "source": [
        "# Uncomment and run this cell if you're running in Google Colab.\n",
        "# !pip install splink"
      ]
    },
    {
      "cell_type": "code",
      "execution_count": 1,
      "id": "fb29d421",
      "metadata": {
        "execution": {
          "iopub.execute_input": "2024-06-22T08:35:35.091703Z",
          "iopub.status.busy": "2024-06-22T08:35:35.091361Z",
          "iopub.status.idle": "2024-06-22T08:35:37.305178Z",
          "shell.execute_reply": "2024-06-22T08:35:37.304151Z"
        },
        "tags": []
      },
      "outputs": [],
      "source": [
        "# Rerun our predictions to we're ready to view the charts\n",
        "from splink import Linker, DuckDBAPI, splink_datasets\n",
        "\n",
        "import pandas as pd\n",
        "\n",
        "pd.options.display.max_columns = 1000\n",
        "\n",
        "db_api = DuckDBAPI()\n",
        "df = splink_datasets.fake_1000"
      ]
    },
    {
      "cell_type": "code",
      "execution_count": 2,
      "id": "2733ac16",
      "metadata": {
        "execution": {
          "iopub.execute_input": "2024-06-22T08:35:37.309398Z",
          "iopub.status.busy": "2024-06-22T08:35:37.309063Z",
          "iopub.status.idle": "2024-06-22T08:35:37.869364Z",
          "shell.execute_reply": "2024-06-22T08:35:37.868626Z"
        }
      },
      "outputs": [
        {
          "name": "stderr",
          "output_type": "stream",
          "text": [
            "Blocking time: 0.01 seconds\n",
            "Predict time: 0.17 seconds\n",
            "\n",
            " -- WARNING --\n",
            "You have called predict(), but there are some parameter estimates which have neither been estimated or specified in your settings dictionary.  To produce predictions the following untrained trained parameters will use default values.\n",
            "Comparison: 'email':\n",
            "    m values not fully trained\n"
          ]
        }
      ],
      "source": [
        "import json\n",
        "\n",
        "# Path to the saved model\n",
        "file_path = \"../../results/saved_model_from_demo.json\"\n",
        "\n",
        "# Load JSON settings from file\n",
        "with open(file_path, \"r\", encoding=\"utf-8\") as f:\n",
        "    settings = json.load(f)\n",
        "\n",
        "\n",
        "linker = Linker(df, settings, db_api=DuckDBAPI())\n",
        "df_predictions = linker.inference.predict(threshold_match_probability=0.2)"
      ]
    },
    {
      "cell_type": "markdown",
      "id": "7b0dedd9",
      "metadata": {},
      "source": [
        "## Waterfall chart\n",
        "\n",
        "The waterfall chart provides a means of visualising individual predictions to understand how Splink computed the final matchweight for a particular pairwise record comparison.\n",
        "\n",
        "To plot a waterfall chart, the user chooses one or more records from the results of `linker.inference.predict()`, and provides these records to the [`linker.visualisations.waterfall_chart()`](https://moj-analytical-services.github.io/splink/api_docs/visualisations.html#splink.internals.linker_components.visualisations.LinkerVisualisations.waterfall_chart) function.\n",
        "\n",
        "For an introduction to waterfall charts and how to interpret them, please see [this](https://www.youtube.com/watch?v=msz3T741KQI&t=507s) video.\n"
      ]
    },
    {
      "cell_type": "code",
      "execution_count": 3,
      "id": "bbfdc70c",
      "metadata": {
        "execution": {
          "iopub.execute_input": "2024-06-22T08:35:37.873246Z",
          "iopub.status.busy": "2024-06-22T08:35:37.872959Z",
          "iopub.status.idle": "2024-06-22T08:35:38.614805Z",
          "shell.execute_reply": "2024-06-22T08:35:38.614251Z"
        },
        "tags": []
      },
      "outputs": [
        {
          "data": {
            "text/html": [
              "\n",
              "<style>\n",
              "  #altair-viz-f68fbe39befe45e1834641903517ba47.vega-embed {\n",
              "    width: 100%;\n",
              "    display: flex;\n",
              "  }\n",
              "\n",
              "  #altair-viz-f68fbe39befe45e1834641903517ba47.vega-embed details,\n",
              "  #altair-viz-f68fbe39befe45e1834641903517ba47.vega-embed details summary {\n",
              "    position: relative;\n",
              "  }\n",
              "</style>\n",
              "<div id=\"altair-viz-f68fbe39befe45e1834641903517ba47\"></div>\n",
              "<script type=\"text/javascript\">\n",
              "  var VEGA_DEBUG = (typeof VEGA_DEBUG == \"undefined\") ? {} : VEGA_DEBUG;\n",
              "  (function(spec, embedOpt){\n",
              "    let outputDiv = document.currentScript.previousElementSibling;\n",
              "    if (outputDiv.id !== \"altair-viz-f68fbe39befe45e1834641903517ba47\") {\n",
              "      outputDiv = document.getElementById(\"altair-viz-f68fbe39befe45e1834641903517ba47\");\n",
              "    }\n",
              "\n",
              "    const paths = {\n",
              "      \"vega\": \"https://cdn.jsdelivr.net/npm/vega@5?noext\",\n",
              "      \"vega-lib\": \"https://cdn.jsdelivr.net/npm/vega-lib?noext\",\n",
              "      \"vega-lite\": \"https://cdn.jsdelivr.net/npm/vega-lite@5.20.1?noext\",\n",
              "      \"vega-embed\": \"https://cdn.jsdelivr.net/npm/vega-embed@6?noext\",\n",
              "    };\n",
              "\n",
              "    function maybeLoadScript(lib, version) {\n",
              "      var key = `${lib.replace(\"-\", \"\")}_version`;\n",
              "      return (VEGA_DEBUG[key] == version) ?\n",
              "        Promise.resolve(paths[lib]) :\n",
              "        new Promise(function(resolve, reject) {\n",
              "          var s = document.createElement('script');\n",
              "          document.getElementsByTagName(\"head\")[0].appendChild(s);\n",
              "          s.async = true;\n",
              "          s.onload = () => {\n",
              "            VEGA_DEBUG[key] = version;\n",
              "            return resolve(paths[lib]);\n",
              "          };\n",
              "          s.onerror = () => reject(`Error loading script: ${paths[lib]}`);\n",
              "          s.src = paths[lib];\n",
              "        });\n",
              "    }\n",
              "\n",
              "    function showError(err) {\n",
              "      outputDiv.innerHTML = `<div class=\"error\" style=\"color:red;\">${err}</div>`;\n",
              "      throw err;\n",
              "    }\n",
              "\n",
              "    function displayChart(vegaEmbed) {\n",
              "      vegaEmbed(outputDiv, spec, embedOpt)\n",
              "        .catch(err => showError(`Javascript Error: ${err.message}<br>This usually means there's a typo in your chart specification. See the javascript console for the full traceback.`));\n",
              "    }\n",
              "\n",
              "    if(typeof define === \"function\" && define.amd) {\n",
              "      requirejs.config({paths});\n",
              "      let deps = [\"vega-embed\"];\n",
              "      require(deps, displayChart, err => showError(`Error loading script: ${err.message}`));\n",
              "    } else {\n",
              "      maybeLoadScript(\"vega\", \"5\")\n",
              "        .then(() => maybeLoadScript(\"vega-lite\", \"5.20.1\"))\n",
              "        .then(() => maybeLoadScript(\"vega-embed\", \"6\"))\n",
              "        .catch(showError)\n",
              "        .then(() => displayChart(vegaEmbed));\n",
              "    }\n",
              "  })({\"config\": {\"view\": {\"continuousWidth\": 400, \"continuousHeight\": 300}}, \"layer\": [{\"layer\": [{\"mark\": \"rule\", \"encoding\": {\"color\": {\"value\": \"black\"}, \"size\": {\"value\": 0.5}, \"y\": {\"field\": \"zero\", \"type\": \"quantitative\"}}}, {\"mark\": {\"type\": \"bar\", \"width\": 60}, \"encoding\": {\"color\": {\"condition\": {\"test\": \"(datum.log2_bayes_factor < 0)\", \"value\": \"red\"}, \"value\": \"green\"}, \"opacity\": {\"condition\": {\"test\": \"datum.column_name == 'Prior match weight' || datum.column_name == 'Final score'\", \"value\": 1}, \"value\": 0.5}, \"tooltip\": [{\"field\": \"column_name\", \"title\": \"Comparison column\", \"type\": \"nominal\"}, {\"field\": \"value_l\", \"title\": \"Value (L)\", \"type\": \"nominal\"}, {\"field\": \"value_r\", \"title\": \"Value (R)\", \"type\": \"nominal\"}, {\"field\": \"label_for_charts\", \"title\": \"Label\", \"type\": \"ordinal\"}, {\"field\": \"sql_condition\", \"title\": \"SQL condition\", \"type\": \"nominal\"}, {\"field\": \"comparison_vector_value\", \"title\": \"Comparison vector value\", \"type\": \"nominal\"}, {\"field\": \"bayes_factor\", \"format\": \",.4f\", \"title\": \"Bayes factor = m/u\", \"type\": \"quantitative\"}, {\"field\": \"log2_bayes_factor\", \"format\": \",.4f\", \"title\": \"Match weight = log2(m/u)\", \"type\": \"quantitative\"}, {\"field\": \"prob\", \"format\": \".4f\", \"title\": \"Cumulative match probability\", \"type\": \"quantitative\"}, {\"field\": \"bayes_factor_description\", \"title\": \"Match weight description\", \"type\": \"nominal\"}], \"x\": {\"axis\": {\"grid\": true, \"labelAlign\": \"center\", \"labelAngle\": -20, \"labelExpr\": \"datum.value == 'Prior' || datum.value == 'Final score' ? '' : datum.value\", \"labelPadding\": 10, \"tickBand\": \"extent\", \"title\": \"Column\"}, \"field\": \"column_name\", \"sort\": {\"field\": \"bar_sort_order\", \"order\": \"ascending\"}, \"type\": \"nominal\"}, \"y\": {\"axis\": {\"grid\": false, \"orient\": \"left\", \"title\": \"Match Weight\"}, \"field\": \"previous_sum\", \"type\": \"quantitative\"}, \"y2\": {\"field\": \"sum\"}}}, {\"mark\": {\"type\": \"text\", \"fontWeight\": \"bold\"}, \"encoding\": {\"color\": {\"value\": \"white\"}, \"text\": {\"condition\": {\"test\": \"abs(datum.log2_bayes_factor) > 1\", \"field\": \"log2_bayes_factor\", \"format\": \".2f\", \"type\": \"nominal\"}, \"value\": \"\"}, \"x\": {\"axis\": {\"labelAngle\": -20, \"title\": \"Column\"}, \"field\": \"column_name\", \"sort\": {\"field\": \"bar_sort_order\", \"order\": \"ascending\"}, \"type\": \"nominal\"}, \"y\": {\"axis\": {\"orient\": \"left\"}, \"field\": \"center\", \"type\": \"quantitative\"}}}, {\"mark\": {\"type\": \"text\", \"baseline\": \"bottom\", \"dy\": -25, \"fontWeight\": \"bold\"}, \"encoding\": {\"color\": {\"value\": \"black\"}, \"text\": {\"field\": \"column_name\", \"type\": \"nominal\"}, \"x\": {\"axis\": {\"labelAngle\": -20, \"title\": \"Column\"}, \"field\": \"column_name\", \"sort\": {\"field\": \"bar_sort_order\", \"order\": \"ascending\"}, \"type\": \"nominal\"}, \"y\": {\"field\": \"sum_top\", \"type\": \"quantitative\"}}}, {\"mark\": {\"type\": \"text\", \"baseline\": \"bottom\", \"dy\": -13, \"fontSize\": 8}, \"encoding\": {\"color\": {\"value\": \"grey\"}, \"text\": {\"field\": \"value_l\", \"type\": \"nominal\"}, \"x\": {\"axis\": {\"labelAngle\": -20, \"title\": \"Column\"}, \"field\": \"column_name\", \"sort\": {\"field\": \"bar_sort_order\", \"order\": \"ascending\"}, \"type\": \"nominal\"}, \"y\": {\"field\": \"sum_top\", \"type\": \"quantitative\"}}}, {\"mark\": {\"type\": \"text\", \"baseline\": \"bottom\", \"dy\": -5, \"fontSize\": 8}, \"encoding\": {\"color\": {\"value\": \"grey\"}, \"text\": {\"field\": \"value_r\", \"type\": \"nominal\"}, \"x\": {\"axis\": {\"labelAngle\": -20, \"title\": \"Column\"}, \"field\": \"column_name\", \"sort\": {\"field\": \"bar_sort_order\", \"order\": \"ascending\"}, \"type\": \"nominal\"}, \"y\": {\"field\": \"sum_top\", \"type\": \"quantitative\"}}}]}, {\"mark\": {\"type\": \"rule\", \"color\": \"black\", \"strokeWidth\": 2, \"x2Offset\": 30, \"xOffset\": -30}, \"encoding\": {\"x\": {\"axis\": {\"labelAngle\": -20, \"title\": \"Column\"}, \"field\": \"column_name\", \"sort\": {\"field\": \"bar_sort_order\", \"order\": \"ascending\"}, \"type\": \"nominal\"}, \"x2\": {\"field\": \"lead\"}, \"y\": {\"axis\": {\"labelExpr\": \"format(1 / (1 + pow(2, -1*datum.value)), '.2r')\", \"orient\": \"right\", \"title\": \"Probability\"}, \"field\": \"sum\", \"scale\": {\"zero\": false}, \"type\": \"quantitative\"}}}], \"data\": {\"name\": \"data-a492e92a2e2ee0208e865c754f9994fe\"}, \"height\": 450, \"params\": [{\"name\": \"record_number\", \"bind\": {\"input\": \"range\", \"max\": 4, \"min\": 0, \"step\": 1}, \"value\": 0}], \"resolve\": {\"axis\": {\"y\": \"independent\"}}, \"title\": {\"text\": \"Match weights waterfall chart\", \"subtitle\": \"How each comparison contributes to the final match score\"}, \"transform\": [{\"filter\": \"(datum.record_number == record_number)\"}, {\"window\": [{\"op\": \"sum\", \"field\": \"log2_bayes_factor\", \"as\": \"sum\"}, {\"op\": \"lead\", \"field\": \"column_name\", \"as\": \"lead\"}], \"frame\": [null, 0]}, {\"calculate\": \"datum.column_name === \\\"Final score\\\" ? datum.sum - datum.log2_bayes_factor : datum.sum\", \"as\": \"sum\"}, {\"calculate\": \"datum.lead === null ? datum.column_name : datum.lead\", \"as\": \"lead\"}, {\"calculate\": \"datum.column_name === \\\"Final score\\\" || datum.column_name === \\\"Prior match weight\\\" ? 0 : datum.sum - datum.log2_bayes_factor\", \"as\": \"previous_sum\"}, {\"calculate\": \"datum.sum > datum.previous_sum ? datum.column_name : \\\"\\\"\", \"as\": \"top_label\"}, {\"calculate\": \"datum.sum < datum.previous_sum ? datum.column_name : \\\"\\\"\", \"as\": \"bottom_label\"}, {\"calculate\": \"datum.sum > datum.previous_sum ? datum.sum : datum.previous_sum\", \"as\": \"sum_top\"}, {\"calculate\": \"datum.sum < datum.previous_sum ? datum.sum : datum.previous_sum\", \"as\": \"sum_bottom\"}, {\"calculate\": \"(datum.sum + datum.previous_sum) / 2\", \"as\": \"center\"}, {\"calculate\": \"(datum.log2_bayes_factor > 0 ? \\\"+\\\" : \\\"\\\") + datum.log2_bayes_factor\", \"as\": \"text_log2_bayes_factor\"}, {\"calculate\": \"datum.sum < datum.previous_sum ? 4 : -4\", \"as\": \"dy\"}, {\"calculate\": \"datum.sum < datum.previous_sum ? \\\"top\\\" : \\\"bottom\\\"\", \"as\": \"baseline\"}, {\"calculate\": \"1. / (1 + pow(2, -1.*datum.sum))\", \"as\": \"prob\"}, {\"calculate\": \"0*datum.sum\", \"as\": \"zero\"}], \"width\": {\"step\": 75}, \"$schema\": \"https://vega.github.io/schema/vega-lite/v5.9.3.json\", \"datasets\": {\"data-a492e92a2e2ee0208e865c754f9994fe\": [{\"column_name\": \"Prior\", \"label_for_charts\": \"Starting match weight (prior)\", \"sql_condition\": null, \"log2_bayes_factor\": -8.386106589561935, \"bayes_factor\": 0.002989030659078392, \"comparison_vector_value\": null, \"m_probability\": null, \"u_probability\": null, \"bayes_factor_description\": null, \"value_l\": \"\", \"value_r\": \"\", \"term_frequency_adjustment\": null, \"bar_sort_order\": 0, \"record_number\": 0}, {\"sql_condition\": \"\\\"first_name_l\\\" IS NULL OR \\\"first_name_r\\\" IS NULL\", \"label_for_charts\": \"first_name is NULL\", \"bayes_factor\": 1.0, \"log2_bayes_factor\": 0.0, \"comparison_vector_value\": -1, \"bayes_factor_description\": \"If comparison level is `first_name is null` then comparison is 1 times more likely to be a match\", \"column_name\": \"first_name\", \"value_l\": \"None\", \"value_r\": \"Evie\", \"term_frequency_adjustment\": false, \"bar_sort_order\": 1, \"record_number\": 0}, {\"sql_condition\": \"\\\"first_name_l\\\" IS NULL OR \\\"first_name_r\\\" IS NULL\", \"label_for_charts\": \"first_name is NULL\", \"bayes_factor\": 1.0, \"log2_bayes_factor\": 0.0, \"comparison_vector_value\": -1, \"bayes_factor_description\": \"If comparison level is `first_name is null` then comparison is 1 times more likely to be a match\", \"column_name\": \"tf_first_name\", \"value_l\": \"\", \"value_r\": \"\", \"term_frequency_adjustment\": true, \"bar_sort_order\": 2, \"record_number\": 0}, {\"sql_condition\": \"\\\"surname_l\\\" = \\\"surname_r\\\"\", \"label_for_charts\": \"Exact match on surname\", \"m_probability\": 0.43457460622893707, \"u_probability\": 0.004889975550122249, \"bayes_factor\": 88.87050697381763, \"log2_bayes_factor\": 6.473632813130571, \"comparison_vector_value\": 4, \"bayes_factor_description\": \"If comparison level is `exact match on surname` then comparison is 88.87 times more likely to be a match\", \"column_name\": \"surname\", \"value_l\": \"Dean\", \"value_r\": \"Dean\", \"term_frequency_adjustment\": false, \"bar_sort_order\": 3, \"record_number\": 0}, {\"sql_condition\": \"\\\"surname_l\\\" = \\\"surname_r\\\"\", \"label_for_charts\": \"Term freq adjustment on surname with weight {cl.tf_adjustment_weight}\", \"m_probability\": null, \"u_probability\": null, \"bayes_factor\": 1.3349633251833741, \"log2_bayes_factor\": 0.4168001079781037, \"comparison_vector_value\": 4, \"bayes_factor_description\": \"Term frequency adjustment on surname makes comparison 1.33 times more likely to be a match\", \"column_name\": \"tf_surname\", \"value_l\": \"Dean\", \"value_r\": \"Dean\", \"term_frequency_adjustment\": true, \"bar_sort_order\": 4, \"record_number\": 0}, {\"sql_condition\": \"\\\"dob_l\\\" = \\\"dob_r\\\"\", \"label_for_charts\": \"Exact match on dob\", \"m_probability\": 0.3914216652882991, \"u_probability\": 0.0017477477477477479, \"bayes_factor\": 223.95775694330513, \"log2_bayes_factor\": 7.807082825648326, \"comparison_vector_value\": 2, \"bayes_factor_description\": \"If comparison level is `exact match on dob` then comparison is 224 times more likely to be a match\", \"column_name\": \"dob\", \"value_l\": \"2015-03-03\", \"value_r\": \"2015-03-03\", \"term_frequency_adjustment\": false, \"bar_sort_order\": 5, \"record_number\": 0}, {\"sql_condition\": \"\\\"city_l\\\" IS NULL OR \\\"city_r\\\" IS NULL\", \"label_for_charts\": \"city is NULL\", \"bayes_factor\": 1.0, \"log2_bayes_factor\": 0.0, \"comparison_vector_value\": -1, \"bayes_factor_description\": \"If comparison level is `city is null` then comparison is 1 times more likely to be a match\", \"column_name\": \"city\", \"value_l\": \"None\", \"value_r\": \"Pootsmruth\", \"term_frequency_adjustment\": false, \"bar_sort_order\": 6, \"record_number\": 0}, {\"sql_condition\": \"\\\"city_l\\\" IS NULL OR \\\"city_r\\\" IS NULL\", \"label_for_charts\": \"city is NULL\", \"bayes_factor\": 1.0, \"log2_bayes_factor\": 0.0, \"comparison_vector_value\": -1, \"bayes_factor_description\": \"If comparison level is `city is null` then comparison is 1 times more likely to be a match\", \"column_name\": \"tf_city\", \"value_l\": \"\", \"value_r\": \"\", \"term_frequency_adjustment\": true, \"bar_sort_order\": 7, \"record_number\": 0}, {\"sql_condition\": \"\\\"email_l\\\" IS NULL OR \\\"email_r\\\" IS NULL\", \"label_for_charts\": \"email is NULL\", \"bayes_factor\": 1.0, \"log2_bayes_factor\": 0.0, \"comparison_vector_value\": -1, \"bayes_factor_description\": \"If comparison level is `email is null` then comparison is 1 times more likely to be a match\", \"column_name\": \"email\", \"value_l\": \"None\", \"value_r\": \"evihd56@earris-bailey.net\", \"term_frequency_adjustment\": false, \"bar_sort_order\": 8, \"record_number\": 0}, {\"sql_condition\": \"\\\"email_l\\\" IS NULL OR \\\"email_r\\\" IS NULL\", \"label_for_charts\": \"email is NULL\", \"bayes_factor\": 1.0, \"log2_bayes_factor\": 0.0, \"comparison_vector_value\": -1, \"bayes_factor_description\": \"If comparison level is `email is null` then comparison is 1 times more likely to be a match\", \"column_name\": \"tf_email\", \"value_l\": \"\", \"value_r\": \"\", \"term_frequency_adjustment\": true, \"bar_sort_order\": 9, \"record_number\": 0}, {\"column_name\": \"Final score\", \"label_for_charts\": \"Final score\", \"sql_condition\": null, \"log2_bayes_factor\": 6.311409157195064, \"bayes_factor\": 79.41882752856378, \"comparison_vector_value\": null, \"m_probability\": null, \"u_probability\": null, \"bayes_factor_description\": null, \"value_l\": \"\", \"value_r\": \"\", \"term_frequency_adjustment\": null, \"bar_sort_order\": 10, \"record_number\": 0}, {\"column_name\": \"Prior\", \"label_for_charts\": \"Starting match weight (prior)\", \"sql_condition\": null, \"log2_bayes_factor\": -8.386106589561935, \"bayes_factor\": 0.002989030659078392, \"comparison_vector_value\": null, \"m_probability\": null, \"u_probability\": null, \"bayes_factor_description\": null, \"value_l\": \"\", \"value_r\": \"\", \"term_frequency_adjustment\": null, \"bar_sort_order\": 0, \"record_number\": 1}, {\"sql_condition\": \"\\\"first_name_l\\\" = \\\"first_name_r\\\"\", \"label_for_charts\": \"Exact match on first_name\", \"m_probability\": 0.49142094931763713, \"u_probability\": 0.0057935713975033705, \"bayes_factor\": 84.8217646078213, \"log2_bayes_factor\": 6.40636259155045, \"comparison_vector_value\": 4, \"bayes_factor_description\": \"If comparison level is `exact match on first_name` then comparison is 84.82 times more likely to be a match\", \"column_name\": \"first_name\", \"value_l\": \"Thomas\", \"value_r\": \"Thomas\", \"term_frequency_adjustment\": false, \"bar_sort_order\": 1, \"record_number\": 1}, {\"sql_condition\": \"\\\"first_name_l\\\" = \\\"first_name_r\\\"\", \"label_for_charts\": \"Term freq adjustment on first_name with weight {cl.tf_adjustment_weight}\", \"m_probability\": null, \"u_probability\": null, \"bayes_factor\": 0.9628915662650601, \"log2_bayes_factor\": -0.05455475332923131, \"comparison_vector_value\": 4, \"bayes_factor_description\": \"Term frequency adjustment on first_name makes comparison  1.04 times less likely to be a match\", \"column_name\": \"tf_first_name\", \"value_l\": \"Thomas\", \"value_r\": \"Thomas\", \"term_frequency_adjustment\": true, \"bar_sort_order\": 2, \"record_number\": 1}, {\"sql_condition\": \"\\\"surname_l\\\" = \\\"surname_r\\\"\", \"label_for_charts\": \"Exact match on surname\", \"m_probability\": 0.43457460622893707, \"u_probability\": 0.004889975550122249, \"bayes_factor\": 88.87050697381763, \"log2_bayes_factor\": 6.473632813130571, \"comparison_vector_value\": 4, \"bayes_factor_description\": \"If comparison level is `exact match on surname` then comparison is 88.87 times more likely to be a match\", \"column_name\": \"surname\", \"value_l\": \"Gabriel\", \"value_r\": \"Gabriel\", \"term_frequency_adjustment\": false, \"bar_sort_order\": 3, \"record_number\": 1}, {\"sql_condition\": \"\\\"surname_l\\\" = \\\"surname_r\\\"\", \"label_for_charts\": \"Term freq adjustment on surname with weight {cl.tf_adjustment_weight}\", \"m_probability\": null, \"u_probability\": null, \"bayes_factor\": 1.0012224938875305, \"log2_bayes_factor\": 0.0017626086992596967, \"comparison_vector_value\": 4, \"bayes_factor_description\": \"Term frequency adjustment on surname makes comparison 1.00 times more likely to be a match\", \"column_name\": \"tf_surname\", \"value_l\": \"Gabriel\", \"value_r\": \"Gabriel\", \"term_frequency_adjustment\": true, \"bar_sort_order\": 4, \"record_number\": 1}, {\"sql_condition\": \"\\\"dob_l\\\" = \\\"dob_r\\\"\", \"label_for_charts\": \"Exact match on dob\", \"m_probability\": 0.3914216652882991, \"u_probability\": 0.0017477477477477479, \"bayes_factor\": 223.95775694330513, \"log2_bayes_factor\": 7.807082825648326, \"comparison_vector_value\": 2, \"bayes_factor_description\": \"If comparison level is `exact match on dob` then comparison is 224 times more likely to be a match\", \"column_name\": \"dob\", \"value_l\": \"1976-09-15\", \"value_r\": \"1976-09-15\", \"term_frequency_adjustment\": false, \"bar_sort_order\": 5, \"record_number\": 1}, {\"sql_condition\": \"ELSE\", \"label_for_charts\": \"All other comparisons\", \"m_probability\": 0.43742527764250927, \"u_probability\": 0.9448524288198547, \"bayes_factor\": 0.4629561869136166, \"log2_bayes_factor\": -1.1110524282124965, \"comparison_vector_value\": 0, \"bayes_factor_description\": \"If comparison level is `all other comparisons` then comparison is 2.16 times less likely to be a match\", \"column_name\": \"city\", \"value_l\": \"Loodon\", \"value_r\": \"London\", \"term_frequency_adjustment\": false, \"bar_sort_order\": 6, \"record_number\": 1}, {\"sql_condition\": \"ELSE\", \"label_for_charts\": \"All other comparisons\", \"m_probability\": 0.43742527764250927, \"u_probability\": 0.9448524288198547, \"bayes_factor\": 1.0, \"log2_bayes_factor\": 0.0, \"comparison_vector_value\": 0, \"bayes_factor_description\": \"If comparison level is `all other comparisons` then comparison is 2.16 times less likely to be a match\", \"column_name\": \"tf_city\", \"value_l\": \"\", \"value_r\": \"\", \"term_frequency_adjustment\": true, \"bar_sort_order\": 7, \"record_number\": 1}, {\"sql_condition\": \"NULLIF(regexp_extract(\\\"email_l\\\", '^[^@]+', 0), '') = NULLIF(regexp_extract(\\\"email_r\\\", '^[^@]+', 0), '')\", \"label_for_charts\": \"Exact match on username\", \"m_probability\": 0.22087412626737135, \"u_probability\": 0.0010390328952024346, \"bayes_factor\": 212.57664438462123, \"log2_bayes_factor\": 7.731839287671784, \"comparison_vector_value\": 3, \"bayes_factor_description\": \"If comparison level is `exact match on username` then comparison is 213 times more likely to be a match\", \"column_name\": \"email\", \"value_l\": \"gabriel.t54@nnichls.info\", \"value_r\": \"gabriel.t54@nichols.info\", \"term_frequency_adjustment\": false, \"bar_sort_order\": 8, \"record_number\": 1}, {\"sql_condition\": \"NULLIF(regexp_extract(\\\"email_l\\\", '^[^@]+', 0), '') = NULLIF(regexp_extract(\\\"email_r\\\", '^[^@]+', 0), '')\", \"label_for_charts\": \"Exact match on username\", \"m_probability\": 0.22087412626737135, \"u_probability\": 0.0010390328952024346, \"bayes_factor\": 1.0, \"log2_bayes_factor\": 0.0, \"comparison_vector_value\": 3, \"bayes_factor_description\": \"If comparison level is `exact match on username` then comparison is 213 times more likely to be a match\", \"column_name\": \"tf_email\", \"value_l\": \"\", \"value_r\": \"\", \"term_frequency_adjustment\": true, \"bar_sort_order\": 9, \"record_number\": 1}, {\"column_name\": \"Final score\", \"label_for_charts\": \"Final score\", \"sql_condition\": null, \"log2_bayes_factor\": 18.86896635559673, \"bayes_factor\": 478767.71885837, \"comparison_vector_value\": null, \"m_probability\": null, \"u_probability\": null, \"bayes_factor_description\": null, \"value_l\": \"\", \"value_r\": \"\", \"term_frequency_adjustment\": null, \"bar_sort_order\": 10, \"record_number\": 1}, {\"column_name\": \"Prior\", \"label_for_charts\": \"Starting match weight (prior)\", \"sql_condition\": null, \"log2_bayes_factor\": -8.386106589561935, \"bayes_factor\": 0.002989030659078392, \"comparison_vector_value\": null, \"m_probability\": null, \"u_probability\": null, \"bayes_factor_description\": null, \"value_l\": \"\", \"value_r\": \"\", \"term_frequency_adjustment\": null, \"bar_sort_order\": 0, \"record_number\": 2}, {\"sql_condition\": \"\\\"first_name_l\\\" = \\\"first_name_r\\\"\", \"label_for_charts\": \"Exact match on first_name\", \"m_probability\": 0.49142094931763713, \"u_probability\": 0.0057935713975033705, \"bayes_factor\": 84.8217646078213, \"log2_bayes_factor\": 6.40636259155045, \"comparison_vector_value\": 4, \"bayes_factor_description\": \"If comparison level is `exact match on first_name` then comparison is 84.82 times more likely to be a match\", \"column_name\": \"first_name\", \"value_l\": \"Thomas\", \"value_r\": \"Thomas\", \"term_frequency_adjustment\": false, \"bar_sort_order\": 1, \"record_number\": 2}, {\"sql_condition\": \"\\\"first_name_l\\\" = \\\"first_name_r\\\"\", \"label_for_charts\": \"Term freq adjustment on first_name with weight {cl.tf_adjustment_weight}\", \"m_probability\": null, \"u_probability\": null, \"bayes_factor\": 0.9628915662650601, \"log2_bayes_factor\": -0.05455475332923131, \"comparison_vector_value\": 4, \"bayes_factor_description\": \"Term frequency adjustment on first_name makes comparison  1.04 times less likely to be a match\", \"column_name\": \"tf_first_name\", \"value_l\": \"Thomas\", \"value_r\": \"Thomas\", \"term_frequency_adjustment\": true, \"bar_sort_order\": 2, \"record_number\": 2}, {\"sql_condition\": \"\\\"surname_l\\\" = \\\"surname_r\\\"\", \"label_for_charts\": \"Exact match on surname\", \"m_probability\": 0.43457460622893707, \"u_probability\": 0.004889975550122249, \"bayes_factor\": 88.87050697381763, \"log2_bayes_factor\": 6.473632813130571, \"comparison_vector_value\": 4, \"bayes_factor_description\": \"If comparison level is `exact match on surname` then comparison is 88.87 times more likely to be a match\", \"column_name\": \"surname\", \"value_l\": \"Gabriel\", \"value_r\": \"Gabriel\", \"term_frequency_adjustment\": false, \"bar_sort_order\": 3, \"record_number\": 2}, {\"sql_condition\": \"\\\"surname_l\\\" = \\\"surname_r\\\"\", \"label_for_charts\": \"Term freq adjustment on surname with weight {cl.tf_adjustment_weight}\", \"m_probability\": null, \"u_probability\": null, \"bayes_factor\": 1.0012224938875305, \"log2_bayes_factor\": 0.0017626086992596967, \"comparison_vector_value\": 4, \"bayes_factor_description\": \"Term frequency adjustment on surname makes comparison 1.00 times more likely to be a match\", \"column_name\": \"tf_surname\", \"value_l\": \"Gabriel\", \"value_r\": \"Gabriel\", \"term_frequency_adjustment\": true, \"bar_sort_order\": 4, \"record_number\": 2}, {\"sql_condition\": \"levenshtein(\\\"dob_l\\\", \\\"dob_r\\\") <= 1\", \"label_for_charts\": \"Levenshtein distance of dob <= 1\", \"m_probability\": 0.14937817941895062, \"u_probability\": 0.0016016016016016017, \"bayes_factor\": 93.26800077470729, \"log2_bayes_factor\": 6.543310288053253, \"comparison_vector_value\": 1, \"bayes_factor_description\": \"If comparison level is `levenshtein distance of dob <= 1` then comparison is 93.27 times more likely to be a match\", \"column_name\": \"dob\", \"value_l\": \"1976-08-15\", \"value_r\": \"1976-09-15\", \"term_frequency_adjustment\": false, \"bar_sort_order\": 5, \"record_number\": 2}, {\"sql_condition\": \"\\\"city_l\\\" IS NULL OR \\\"city_r\\\" IS NULL\", \"label_for_charts\": \"city is NULL\", \"bayes_factor\": 1.0, \"log2_bayes_factor\": 0.0, \"comparison_vector_value\": -1, \"bayes_factor_description\": \"If comparison level is `city is null` then comparison is 1 times more likely to be a match\", \"column_name\": \"city\", \"value_l\": \"None\", \"value_r\": \"London\", \"term_frequency_adjustment\": false, \"bar_sort_order\": 6, \"record_number\": 2}, {\"sql_condition\": \"\\\"city_l\\\" IS NULL OR \\\"city_r\\\" IS NULL\", \"label_for_charts\": \"city is NULL\", \"bayes_factor\": 1.0, \"log2_bayes_factor\": 0.0, \"comparison_vector_value\": -1, \"bayes_factor_description\": \"If comparison level is `city is null` then comparison is 1 times more likely to be a match\", \"column_name\": \"tf_city\", \"value_l\": \"\", \"value_r\": \"\", \"term_frequency_adjustment\": true, \"bar_sort_order\": 7, \"record_number\": 2}, {\"sql_condition\": \"\\\"email_l\\\" IS NULL OR \\\"email_r\\\" IS NULL\", \"label_for_charts\": \"email is NULL\", \"bayes_factor\": 1.0, \"log2_bayes_factor\": 0.0, \"comparison_vector_value\": -1, \"bayes_factor_description\": \"If comparison level is `email is null` then comparison is 1 times more likely to be a match\", \"column_name\": \"email\", \"value_l\": \"None\", \"value_r\": \"gabriel.t54@nlchois.info\", \"term_frequency_adjustment\": false, \"bar_sort_order\": 8, \"record_number\": 2}, {\"sql_condition\": \"\\\"email_l\\\" IS NULL OR \\\"email_r\\\" IS NULL\", \"label_for_charts\": \"email is NULL\", \"bayes_factor\": 1.0, \"log2_bayes_factor\": 0.0, \"comparison_vector_value\": -1, \"bayes_factor_description\": \"If comparison level is `email is null` then comparison is 1 times more likely to be a match\", \"column_name\": \"tf_email\", \"value_l\": \"\", \"value_r\": \"\", \"term_frequency_adjustment\": true, \"bar_sort_order\": 9, \"record_number\": 2}, {\"column_name\": \"Final score\", \"label_for_charts\": \"Final score\", \"sql_condition\": null, \"log2_bayes_factor\": 10.984406958542367, \"bayes_factor\": 2025.9838500648125, \"comparison_vector_value\": null, \"m_probability\": null, \"u_probability\": null, \"bayes_factor_description\": null, \"value_l\": \"\", \"value_r\": \"\", \"term_frequency_adjustment\": null, \"bar_sort_order\": 10, \"record_number\": 2}, {\"column_name\": \"Prior\", \"label_for_charts\": \"Starting match weight (prior)\", \"sql_condition\": null, \"log2_bayes_factor\": -8.386106589561935, \"bayes_factor\": 0.002989030659078392, \"comparison_vector_value\": null, \"m_probability\": null, \"u_probability\": null, \"bayes_factor_description\": null, \"value_l\": \"\", \"value_r\": \"\", \"term_frequency_adjustment\": null, \"bar_sort_order\": 0, \"record_number\": 3}, {\"sql_condition\": \"\\\"first_name_l\\\" = \\\"first_name_r\\\"\", \"label_for_charts\": \"Exact match on first_name\", \"m_probability\": 0.49142094931763713, \"u_probability\": 0.0057935713975033705, \"bayes_factor\": 84.8217646078213, \"log2_bayes_factor\": 6.40636259155045, \"comparison_vector_value\": 4, \"bayes_factor_description\": \"If comparison level is `exact match on first_name` then comparison is 84.82 times more likely to be a match\", \"column_name\": \"first_name\", \"value_l\": \"Theodore\", \"value_r\": \"Theodore\", \"term_frequency_adjustment\": false, \"bar_sort_order\": 1, \"record_number\": 3}, {\"sql_condition\": \"\\\"first_name_l\\\" = \\\"first_name_r\\\"\", \"label_for_charts\": \"Term freq adjustment on first_name with weight {cl.tf_adjustment_weight}\", \"m_probability\": null, \"u_probability\": null, \"bayes_factor\": 0.48144578313253006, \"log2_bayes_factor\": -1.0545547533292312, \"comparison_vector_value\": 4, \"bayes_factor_description\": \"Term frequency adjustment on first_name makes comparison  2.08 times less likely to be a match\", \"column_name\": \"tf_first_name\", \"value_l\": \"Theodore\", \"value_r\": \"Theodore\", \"term_frequency_adjustment\": true, \"bar_sort_order\": 2, \"record_number\": 3}, {\"sql_condition\": \"\\\"surname_l\\\" = \\\"surname_r\\\"\", \"label_for_charts\": \"Exact match on surname\", \"m_probability\": 0.43457460622893707, \"u_probability\": 0.004889975550122249, \"bayes_factor\": 88.87050697381763, \"log2_bayes_factor\": 6.473632813130571, \"comparison_vector_value\": 4, \"bayes_factor_description\": \"If comparison level is `exact match on surname` then comparison is 88.87 times more likely to be a match\", \"column_name\": \"surname\", \"value_l\": \"Morris\", \"value_r\": \"Morris\", \"term_frequency_adjustment\": false, \"bar_sort_order\": 3, \"record_number\": 3}, {\"sql_condition\": \"\\\"surname_l\\\" = \\\"surname_r\\\"\", \"label_for_charts\": \"Term freq adjustment on surname with weight {cl.tf_adjustment_weight}\", \"m_probability\": null, \"u_probability\": null, \"bayes_factor\": 1.0012224938875305, \"log2_bayes_factor\": 0.0017626086992596967, \"comparison_vector_value\": 4, \"bayes_factor_description\": \"Term frequency adjustment on surname makes comparison 1.00 times more likely to be a match\", \"column_name\": \"tf_surname\", \"value_l\": \"Morris\", \"value_r\": \"Morris\", \"term_frequency_adjustment\": true, \"bar_sort_order\": 4, \"record_number\": 3}, {\"sql_condition\": \"\\\"dob_l\\\" = \\\"dob_r\\\"\", \"label_for_charts\": \"Exact match on dob\", \"m_probability\": 0.3914216652882991, \"u_probability\": 0.0017477477477477479, \"bayes_factor\": 223.95775694330513, \"log2_bayes_factor\": 7.807082825648326, \"comparison_vector_value\": 2, \"bayes_factor_description\": \"If comparison level is `exact match on dob` then comparison is 224 times more likely to be a match\", \"column_name\": \"dob\", \"value_l\": \"1978-08-19\", \"value_r\": \"1978-08-19\", \"term_frequency_adjustment\": false, \"bar_sort_order\": 5, \"record_number\": 3}, {\"sql_condition\": \"\\\"city_l\\\" = \\\"city_r\\\"\", \"label_for_charts\": \"Exact match on city\", \"m_probability\": 0.5625747223574907, \"u_probability\": 0.0551475711801453, \"bayes_factor\": 10.201260188228085, \"log2_bayes_factor\": 3.3506754779672043, \"comparison_vector_value\": 1, \"bayes_factor_description\": \"If comparison level is `exact match on city` then comparison is 10.2 times more likely to be a match\", \"column_name\": \"city\", \"value_l\": \"Birmingham\", \"value_r\": \"Birmingham\", \"term_frequency_adjustment\": false, \"bar_sort_order\": 6, \"record_number\": 3}, {\"sql_condition\": \"\\\"city_l\\\" = \\\"city_r\\\"\", \"label_for_charts\": \"Term freq adjustment on city with weight {cl.tf_adjustment_weight}\", \"m_probability\": null, \"u_probability\": null, \"bayes_factor\": 1.1208743842364532, \"log2_bayes_factor\": 0.16462460517844008, \"comparison_vector_value\": 1, \"bayes_factor_description\": \"Term frequency adjustment on city makes comparison 1.12 times more likely to be a match\", \"column_name\": \"tf_city\", \"value_l\": \"Birmingham\", \"value_r\": \"Birmingham\", \"term_frequency_adjustment\": true, \"bar_sort_order\": 7, \"record_number\": 3}, {\"sql_condition\": \"\\\"email_l\\\" = \\\"email_r\\\"\", \"label_for_charts\": \"Exact match on email\", \"m_probability\": 0.5529665836585225, \"u_probability\": 0.0021938713143283602, \"bayes_factor\": 252.0506011665546, \"log2_bayes_factor\": 7.977569585101858, \"comparison_vector_value\": 4, \"bayes_factor_description\": \"If comparison level is `exact match on email` then comparison is 252 times more likely to be a match\", \"column_name\": \"email\", \"value_l\": \"t.m39@brooks-sawyer.com\", \"value_r\": \"t.m39@brooks-sawyer.com\", \"term_frequency_adjustment\": false, \"bar_sort_order\": 8, \"record_number\": 3}, {\"sql_condition\": \"\\\"email_l\\\" = \\\"email_r\\\"\", \"label_for_charts\": \"Term freq adjustment on email with weight {cl.tf_adjustment_weight}\", \"m_probability\": null, \"u_probability\": null, \"bayes_factor\": 0.34619289340101517, \"log2_bayes_factor\": -1.5303519853195664, \"comparison_vector_value\": 4, \"bayes_factor_description\": \"Term frequency adjustment on email makes comparison  2.89 times less likely to be a match\", \"column_name\": \"tf_email\", \"value_l\": \"t.m39@brooks-sawyer.com\", \"value_r\": \"t.m39@brooks-sawyer.com\", \"term_frequency_adjustment\": true, \"bar_sort_order\": 9, \"record_number\": 3}, {\"column_name\": \"Final score\", \"label_for_charts\": \"Final score\", \"sql_condition\": null, \"log2_bayes_factor\": 21.210697179065377, \"bayes_factor\": 2426923.460109973, \"comparison_vector_value\": null, \"m_probability\": null, \"u_probability\": null, \"bayes_factor_description\": null, \"value_l\": \"\", \"value_r\": \"\", \"term_frequency_adjustment\": null, \"bar_sort_order\": 10, \"record_number\": 3}, {\"column_name\": \"Prior\", \"label_for_charts\": \"Starting match weight (prior)\", \"sql_condition\": null, \"log2_bayes_factor\": -8.386106589561935, \"bayes_factor\": 0.002989030659078392, \"comparison_vector_value\": null, \"m_probability\": null, \"u_probability\": null, \"bayes_factor_description\": null, \"value_l\": \"\", \"value_r\": \"\", \"term_frequency_adjustment\": null, \"bar_sort_order\": 0, \"record_number\": 4}, {\"sql_condition\": \"\\\"first_name_l\\\" = \\\"first_name_r\\\"\", \"label_for_charts\": \"Exact match on first_name\", \"m_probability\": 0.49142094931763713, \"u_probability\": 0.0057935713975033705, \"bayes_factor\": 84.8217646078213, \"log2_bayes_factor\": 6.40636259155045, \"comparison_vector_value\": 4, \"bayes_factor_description\": \"If comparison level is `exact match on first_name` then comparison is 84.82 times more likely to be a match\", \"column_name\": \"first_name\", \"value_l\": \"Theodore\", \"value_r\": \"Theodore\", \"term_frequency_adjustment\": false, \"bar_sort_order\": 1, \"record_number\": 4}, {\"sql_condition\": \"\\\"first_name_l\\\" = \\\"first_name_r\\\"\", \"label_for_charts\": \"Term freq adjustment on first_name with weight {cl.tf_adjustment_weight}\", \"m_probability\": null, \"u_probability\": null, \"bayes_factor\": 0.48144578313253006, \"log2_bayes_factor\": -1.0545547533292312, \"comparison_vector_value\": 4, \"bayes_factor_description\": \"Term frequency adjustment on first_name makes comparison  2.08 times less likely to be a match\", \"column_name\": \"tf_first_name\", \"value_l\": \"Theodore\", \"value_r\": \"Theodore\", \"term_frequency_adjustment\": true, \"bar_sort_order\": 2, \"record_number\": 4}, {\"sql_condition\": \"\\\"surname_l\\\" = \\\"surname_r\\\"\", \"label_for_charts\": \"Exact match on surname\", \"m_probability\": 0.43457460622893707, \"u_probability\": 0.004889975550122249, \"bayes_factor\": 88.87050697381763, \"log2_bayes_factor\": 6.473632813130571, \"comparison_vector_value\": 4, \"bayes_factor_description\": \"If comparison level is `exact match on surname` then comparison is 88.87 times more likely to be a match\", \"column_name\": \"surname\", \"value_l\": \"Morris\", \"value_r\": \"Morris\", \"term_frequency_adjustment\": false, \"bar_sort_order\": 3, \"record_number\": 4}, {\"sql_condition\": \"\\\"surname_l\\\" = \\\"surname_r\\\"\", \"label_for_charts\": \"Term freq adjustment on surname with weight {cl.tf_adjustment_weight}\", \"m_probability\": null, \"u_probability\": null, \"bayes_factor\": 1.0012224938875305, \"log2_bayes_factor\": 0.0017626086992596967, \"comparison_vector_value\": 4, \"bayes_factor_description\": \"Term frequency adjustment on surname makes comparison 1.00 times more likely to be a match\", \"column_name\": \"tf_surname\", \"value_l\": \"Morris\", \"value_r\": \"Morris\", \"term_frequency_adjustment\": true, \"bar_sort_order\": 4, \"record_number\": 4}, {\"sql_condition\": \"ELSE\", \"label_for_charts\": \"All other comparisons\", \"m_probability\": 0.45920015529275027, \"u_probability\": 0.9966506506506506, \"bayes_factor\": 0.4607433457179477, \"log2_bayes_factor\": -1.1179647649923978, \"comparison_vector_value\": 0, \"bayes_factor_description\": \"If comparison level is `all other comparisons` then comparison is 2.17 times less likely to be a match\", \"column_name\": \"dob\", \"value_l\": \"1978-09-18\", \"value_r\": \"1978-08-19\", \"term_frequency_adjustment\": false, \"bar_sort_order\": 5, \"record_number\": 4}, {\"sql_condition\": \"ELSE\", \"label_for_charts\": \"All other comparisons\", \"m_probability\": 0.43742527764250927, \"u_probability\": 0.9448524288198547, \"bayes_factor\": 0.4629561869136166, \"log2_bayes_factor\": -1.1110524282124965, \"comparison_vector_value\": 0, \"bayes_factor_description\": \"If comparison level is `all other comparisons` then comparison is 2.16 times less likely to be a match\", \"column_name\": \"city\", \"value_l\": \"Birgmhniam\", \"value_r\": \"Birmingham\", \"term_frequency_adjustment\": false, \"bar_sort_order\": 6, \"record_number\": 4}, {\"sql_condition\": \"ELSE\", \"label_for_charts\": \"All other comparisons\", \"m_probability\": 0.43742527764250927, \"u_probability\": 0.9448524288198547, \"bayes_factor\": 1.0, \"log2_bayes_factor\": 0.0, \"comparison_vector_value\": 0, \"bayes_factor_description\": \"If comparison level is `all other comparisons` then comparison is 2.16 times less likely to be a match\", \"column_name\": \"tf_city\", \"value_l\": \"\", \"value_r\": \"\", \"term_frequency_adjustment\": true, \"bar_sort_order\": 7, \"record_number\": 4}, {\"sql_condition\": \"\\\"email_l\\\" IS NULL OR \\\"email_r\\\" IS NULL\", \"label_for_charts\": \"email is NULL\", \"bayes_factor\": 1.0, \"log2_bayes_factor\": 0.0, \"comparison_vector_value\": -1, \"bayes_factor_description\": \"If comparison level is `email is null` then comparison is 1 times more likely to be a match\", \"column_name\": \"email\", \"value_l\": \"None\", \"value_r\": \"t.m39@brooks-sawyer.com\", \"term_frequency_adjustment\": false, \"bar_sort_order\": 8, \"record_number\": 4}, {\"sql_condition\": \"\\\"email_l\\\" IS NULL OR \\\"email_r\\\" IS NULL\", \"label_for_charts\": \"email is NULL\", \"bayes_factor\": 1.0, \"log2_bayes_factor\": 0.0, \"comparison_vector_value\": -1, \"bayes_factor_description\": \"If comparison level is `email is null` then comparison is 1 times more likely to be a match\", \"column_name\": \"tf_email\", \"value_l\": \"\", \"value_r\": \"\", \"term_frequency_adjustment\": true, \"bar_sort_order\": 9, \"record_number\": 4}, {\"column_name\": \"Final score\", \"label_for_charts\": \"Final score\", \"sql_condition\": null, \"log2_bayes_factor\": 1.2120794772842198, \"bayes_factor\": 2.3167132353445425, \"comparison_vector_value\": null, \"m_probability\": null, \"u_probability\": null, \"bayes_factor_description\": null, \"value_l\": \"\", \"value_r\": \"\", \"term_frequency_adjustment\": null, \"bar_sort_order\": 10, \"record_number\": 4}]}}, {\"mode\": \"vega-lite\"});\n",
              "</script>"
            ],
            "text/plain": [
              "alt.LayerChart(...)"
            ]
          },
          "execution_count": 3,
          "metadata": {},
          "output_type": "execute_result"
        }
      ],
      "source": [
        "records_to_view = df_predictions.as_record_dict(limit=5)\n",
        "linker.visualisations.waterfall_chart(records_to_view, filter_nulls=False)"
      ]
    },
    {
      "cell_type": "markdown",
      "id": "48b76176",
      "metadata": {},
      "source": [
        "## Comparison viewer dashboard\n",
        "\n",
        "The [comparison viewer dashboard](https://moj-analytical-services.github.io/splink/api_docs/visualisations.html#splink.internals.linker_components.visualisations.LinkerVisualisations.comparison_viewer_dashboard) takes this one step further by producing an interactive dashboard that contains example predictions from across the spectrum of match scores.\n",
        "\n",
        "An in-depth video describing how to interpret the dashboard can be found [here](https://www.youtube.com/watch?v=DNvCMqjipis).\n"
      ]
    },
    {
      "cell_type": "code",
      "execution_count": null,
      "id": "da85169c",
      "metadata": {
        "execution": {
          "iopub.execute_input": "2024-06-22T08:35:38.618191Z",
          "iopub.status.busy": "2024-06-22T08:35:38.617967Z",
          "iopub.status.idle": "2024-06-22T08:35:38.717561Z",
          "shell.execute_reply": "2024-06-22T08:35:38.716858Z"
        },
        "tags": []
      },
      "outputs": [
        {
          "data": {
            "text/plain": [
              "True"
            ]
          },
          "execution_count": 4,
          "metadata": {},
          "output_type": "execute_result"
        },
        {
          "name": "stderr",
          "output_type": "stream",
          "text": [
            "gio: file:///home/enginux/stage/splink/results/scv.html: Failed to find default application for content type ‘text/html’\n"
          ]
        }
      ],
      "source": [
        "linker.visualisations.comparison_viewer_dashboard(df_predictions, \"../../results/scv.html\", overwrite=True)\n",
        "\n",
        "# You can view the scv.html file in your browser, or inline in a notbook as follows\n",
        "from IPython.display import IFrame\n",
        "\n",
        "IFrame(src=\"../../results/scv.html\", width=\"100%\", height=1200)\n",
        "\n",
        "# Open the file in your browser\n",
        "import webbrowser\n",
        "webbrowser.open(\"../../results/scv.html\")"
      ]
    },
    {
      "cell_type": "markdown",
      "id": "d34df82c",
      "metadata": {},
      "source": [
        "## Cluster studio dashboard\n",
        "\n",
        "Cluster studio is an interactive dashboards that visualises the results of clustering your predictions.\n",
        "\n",
        "It provides examples of clusters of different sizes. The shape and size of clusters can be indicative of problems with record linkage, so it provides a tool to help you find potential false positive and negative links.\n"
      ]
    },
    {
      "cell_type": "code",
      "execution_count": 5,
      "id": "e2153d91",
      "metadata": {
        "execution": {
          "iopub.execute_input": "2024-06-22T08:35:38.721856Z",
          "iopub.status.busy": "2024-06-22T08:35:38.721546Z",
          "iopub.status.idle": "2024-06-22T08:35:38.845614Z",
          "shell.execute_reply": "2024-06-22T08:35:38.844884Z"
        },
        "tags": []
      },
      "outputs": [
        {
          "name": "stderr",
          "output_type": "stream",
          "text": [
            "Completed iteration 1, num representatives needing updating: 2\n",
            "Completed iteration 2, num representatives needing updating: 0\n"
          ]
        },
        {
          "data": {
            "text/plain": [
              "True"
            ]
          },
          "execution_count": 5,
          "metadata": {},
          "output_type": "execute_result"
        },
        {
          "name": "stderr",
          "output_type": "stream",
          "text": [
            "gio: file:///home/enginux/stage/splink/results/scv.html: Failed to find default application for content type ‘text/html’\n"
          ]
        }
      ],
      "source": [
        "df_clusters = linker.clustering.cluster_pairwise_predictions_at_threshold(\n",
        "    df_predictions, threshold_match_probability=0.5\n",
        ")\n",
        "\n",
        "linker.visualisations.cluster_studio_dashboard(\n",
        "    df_predictions,\n",
        "    df_clusters,\n",
        "    \"../../results/cluster_studio.html\",\n",
        "    sampling_method=\"by_cluster_size\",\n",
        "    overwrite=True,\n",
        ")\n",
        "\n",
        "# You can view the scv.html file in your browser, or inline in a notbook as follows\n",
        "from IPython.display import IFrame\n",
        "\n",
        "IFrame(src=\"../../results/cluster_studio.html\", width=\"100%\", height=1000)\n",
        "\n",
        "# Open the file in your browser\n",
        "import webbrowser\n",
        "webbrowser.open(\"../../results/scv.html\")"
      ]
    },
    {
      "cell_type": "markdown",
      "id": "20ede1e9",
      "metadata": {},
      "source": [
        "!!! note \"Further Reading\"\n",
        "\n",
        "For more on the visualisation tools in Splink, please refer to the [Visualisation API documentation](https://moj-analytical-services.github.io/splink/api_docs/visualisations.html).\n",
        "\n",
        "For more on the charts used in this tutorial, please refer to the [Charts Gallery](https://moj-analytical-services.github.io/splink/charts/index.html#model-training.)\n"
      ]
    },
    {
      "cell_type": "markdown",
      "id": "7cc780cb",
      "metadata": {},
      "source": [
        "## Next steps\n",
        "\n",
        "Now we have visualised the results of a model, we can move on to some more formal Quality Assurance procedures using labelled data.\n"
      ]
    }
  ],
  "metadata": {
    "kernelspec": {
      "display_name": "Python 3",
      "language": "python",
      "name": "python3"
    },
    "language_info": {
      "codemirror_mode": {
        "name": "ipython",
        "version": 3
      },
      "file_extension": ".py",
      "mimetype": "text/x-python",
      "name": "python",
      "nbconvert_exporter": "python",
      "pygments_lexer": "ipython3",
      "version": "3.11.5"
    }
  },
  "nbformat": 4,
  "nbformat_minor": 5
}
